{
 "cells": [
  {
   "cell_type": "code",
   "execution_count": 1537,
   "metadata": {},
   "outputs": [],
   "source": [
    "import pandas as pd\n",
    "import numpy as np\n",
    "import matplotlib.pyplot as plt\n",
    "import seaborn as sns\n",
    "from sklearn.decomposition import PCA\n",
    "from sklearn.preprocessing import StandardScaler\n",
    "from sklearn.model_selection import cross_val_score\n",
    "from sklearn.ensemble import GradientBoostingRegressor\n",
    "from sklearn.model_selection import GridSearchCV\n",
    "from sklearn.model_selection import train_test_split\n",
    "df_test=pd.read_csv('test.csv')\n",
    "df_train=pd.read_csv('train.csv')\n",
    "df=pd.concat([df_train,df_test])\n",
    "sns.set()"
   ]
  },
  {
   "cell_type": "code",
   "execution_count": 1538,
   "metadata": {},
   "outputs": [],
   "source": [
    "non_complete_values=[]\n",
    "non_complete_values_float64=[]\n",
    "non_complete_values_object=[]\n",
    "for i in df.columns:\n",
    "    if df[i].count()==2919:\n",
    "        pass\n",
    "    else:\n",
    "        non_complete_values.append(i)\n",
    "non_fillina_columns=df[non_complete_values]\n",
    "for i in non_fillina_columns.columns:\n",
    "    \n",
    "    if non_fillina_columns[i].dtype=='float64':\n",
    "        non_complete_values_float64.append(i)\n",
    "    else:\n",
    "        non_complete_values_object.append(i)"
   ]
  },
  {
   "cell_type": "code",
   "execution_count": 1539,
   "metadata": {},
   "outputs": [],
   "source": [
    "df['LotFrontage']=df['LotFrontage'].fillna(int(((df[\"LotFrontage\"].mode()+df[\"LotFrontage\"].median())/2)))\n",
    "df['MasVnrArea']=df['MasVnrArea'].fillna(0)\n",
    "df['BsmtFinSF1']=df['BsmtFinSF1'].fillna(0)\n",
    "df['BsmtFinSF2']=df['BsmtFinSF2'].fillna(0)\n",
    "df['BsmtUnfSF']=df['BsmtUnfSF'].fillna(0)"
   ]
  },
  {
   "cell_type": "code",
   "execution_count": 1540,
   "metadata": {},
   "outputs": [],
   "source": [
    "df['TotalBsmtSF']=df['TotalBsmtSF'].fillna(df['TotalBsmtSF'].median())\n",
    "df['BsmtFullBath']=df['BsmtFullBath'].fillna(0)\n",
    "df['BsmtHalfBath']=df['BsmtHalfBath'].fillna(0)\n",
    "df['GarageYrBlt']=df['GarageYrBlt'].fillna(int((df['GarageYrBlt'].median()+df['GarageYrBlt'].mode()+df['GarageYrBlt'].mean())/3))\n",
    "df['GarageCars']=df['GarageCars'].fillna(2)\n",
    "df['GarageArea']=df['GarageArea'].fillna(df['GarageArea'].median())"
   ]
  },
  {
   "cell_type": "code",
   "execution_count": 1541,
   "metadata": {},
   "outputs": [],
   "source": [
    "df['MSZoning']=df['MSZoning'].fillna('RL')\n",
    "df['Utilities']=df['Utilities'].fillna('AllPub')\n",
    "df['Exterior1st']=df['Exterior1st'].fillna('VinylSd')\n",
    "df['Exterior2nd']=df['Exterior2nd'].fillna('VinylSd')\n",
    "df['MasVnrType']=df['MasVnrType'].fillna('None')\n",
    "df['BsmtQual']=df['BsmtQual'].fillna('TA')"
   ]
  },
  {
   "cell_type": "code",
   "execution_count": 1542,
   "metadata": {},
   "outputs": [],
   "source": [
    "df['BsmtCond']=df['BsmtCond'].fillna('TA')\n",
    "df['BsmtExposure']=df['BsmtExposure'].fillna('No')\n",
    "df['BsmtFinType1']=df['BsmtFinType1'].fillna('Unf')\n",
    "df['BsmtFinType2']=df['BsmtFinType2'].fillna('Unf')\n",
    "df['Electrical']=df['Electrical'].fillna('SBrkr')\n",
    "df['KitchenQual']=df['KitchenQual'].fillna('TA')"
   ]
  },
  {
   "cell_type": "code",
   "execution_count": 1543,
   "metadata": {},
   "outputs": [],
   "source": [
    "df['Functional']=df['Functional'].fillna('Typ')\n",
    "df['FireplaceQu']=df['FireplaceQu'].fillna('Gd')\n",
    "df['GarageType']=df['GarageType'].fillna('Attchd')\n",
    "df['GarageFinish']=df['GarageFinish'].fillna('Unf')\n",
    "df['GarageQual']=df['GarageQual'].fillna('TA')\n",
    "df['GarageCond']=df['GarageCond'].fillna('TA')\n",
    "df['SaleType']=df['SaleType'].fillna('WD')"
   ]
  },
  {
   "cell_type": "code",
   "execution_count": 1544,
   "metadata": {},
   "outputs": [],
   "source": [
    "df=df.drop(['Alley','PoolQC','Fence','MiscFeature'],axis=1)"
   ]
  },
  {
   "cell_type": "code",
   "execution_count": 1545,
   "metadata": {},
   "outputs": [],
   "source": [
    "columns_object=[]\n",
    "for i in df.columns:\n",
    "    if df[i].dtypes=='object':\n",
    "        columns_object.append(i)"
   ]
  },
  {
   "cell_type": "code",
   "execution_count": 1546,
   "metadata": {},
   "outputs": [],
   "source": [
    "df['MSZoning']=df['MSZoning'].map({'RH':0, 'RL':1, 'RM':2, 'FV':3, 'C (all)':4})\n",
    "df['Street']=df['Street'].map({'Pave':0,'Grvl':1})\n",
    "df['LotShape']=df['LotShape'].map({'Reg':0,'IR1':1,'IR2':2,'IR3':3})\n",
    "df['LandContour']=df['LandContour'].map({'Lvl':0, 'HLS':1, 'Bnk':2, 'Low':3})\n",
    "df['Utilities']=df['Utilities'].map({'AllPub':0, 'NoSeWa':1})\n",
    "df['LotConfig']=df['LotConfig'].map({'Inside':0, 'Corner':1, 'FR2':2, 'CulDSac':3, 'FR3':4})\n",
    "df['LandSlope']=df['LandSlope'].map({'Gtl':0, 'Mod':1, 'Sev':2})\n",
    "df['Neighborhood']=df['Neighborhood'].map({'NAmes':0, 'Gilbert':1, 'StoneBr':2, 'BrDale':3, 'NPkVill':4, 'NridgHt':5,\n",
    "       'Blmngtn':6, 'NoRidge':7, 'Somerst':8, 'SawyerW':9, 'Sawyer':10, 'NWAmes':11,\n",
    "       'OldTown':12, 'BrkSide':13, 'ClearCr':14, 'SWISU':15, 'Edwards':16, 'CollgCr':17,\n",
    "       'Crawfor':18, 'Blueste':19, 'IDOTRR':20, 'Mitchel':21, 'Timber':22, 'MeadowV':23,\n",
    "       'Veenker':24})\n",
    "df['Condition1']=df['Condition1'].map({'Feedr':0, 'Norm':2, 'PosN':3, 'RRNe':4,\n",
    " 'Artery':5, 'RRNn':6, 'PosA':7, 'RRAn':8,'RRAe':9})\n",
    "df['Condition2']=df['Condition2'].map({'Norm':0, 'Feedr':1, 'PosA':2, 'PosN':3, 'Artery':4, 'RRNn':5, 'RRAn':6, 'RRAe':7})\n"
   ]
  },
  {
   "cell_type": "code",
   "execution_count": 1547,
   "metadata": {},
   "outputs": [],
   "source": [
    "df['BldgType']=df['BldgType'].map({'1Fam':0, 'TwnhsE':1, 'Twnhs':2, 'Duplex':3, '2fmCon':4})"
   ]
  },
  {
   "cell_type": "code",
   "execution_count": 1548,
   "metadata": {},
   "outputs": [],
   "source": [
    "df['HouseStyle']=df['HouseStyle'].map({'1Story':1, '2Story':2, 'SLvl':3, '1.5Fin':4, 'SFoyer':5, '2.5Unf':6, '1.5Unf':7,\n",
    "       '2.5Fin':7})"
   ]
  },
  {
   "cell_type": "code",
   "execution_count": 1549,
   "metadata": {},
   "outputs": [],
   "source": [
    "df['RoofStyle']=df['RoofStyle'].map({v: k for k, v in dict(enumerate(df['RoofStyle'].unique())).items()})\n",
    "df['RoofMatl']=df['RoofMatl'].map({v: k for k, v in dict(enumerate(df['RoofMatl'].unique())).items()})\n",
    "df['Exterior1st']=df['Exterior1st'].map({v: k for k, v in dict(enumerate(df['Exterior1st'].unique())).items()})\n",
    "df['Exterior2nd']=df['Exterior2nd'].map({v: k for k, v in dict(enumerate(df['Exterior2nd'].unique())).items()})\n",
    "df['MasVnrType']=df['MasVnrType'].map({v: k for k, v in dict(enumerate(df['MasVnrType'].unique())).items()})\n",
    "df['ExterQual']=df['ExterQual'].map({v: k for k, v in dict(enumerate(df['ExterQual'].unique())).items()})\n",
    "df['ExterCond']=df['ExterCond'].map({v: k for k, v in dict(enumerate(df['ExterCond'].unique())).items()})\n",
    "df['Foundation']=df['Foundation'].map({v: k for k, v in dict(enumerate(df['Foundation'].unique())).items()})"
   ]
  },
  {
   "cell_type": "code",
   "execution_count": 1550,
   "metadata": {},
   "outputs": [],
   "source": [
    "\n",
    "df['BsmtQual']=df['BsmtQual'].map({v: k for k, v in dict(enumerate(df['BsmtQual'].unique())).items()})"
   ]
  },
  {
   "cell_type": "code",
   "execution_count": 1551,
   "metadata": {},
   "outputs": [],
   "source": [
    "df['BsmtQual']=df['BsmtQual'].map({v: k for k, v in dict(enumerate(df['BsmtQual'].unique())).items()})"
   ]
  },
  {
   "cell_type": "code",
   "execution_count": 1552,
   "metadata": {},
   "outputs": [],
   "source": [
    "df['BsmtCond']=df['BsmtCond'].map({v: k for k, v in dict(enumerate(df['BsmtCond'].unique())).items()})\n",
    "df['BsmtExposure']=df['BsmtExposure'].map({v: k for k, v in dict(enumerate(df['BsmtExposure'].unique())).items()})\n",
    "df['BsmtFinType1']=df['BsmtFinType1'].map({v: k for k, v in dict(enumerate(df['BsmtFinType1'].unique())).items()})\n",
    "df['BsmtFinType2']=df['BsmtFinType2'].map({v: k for k, v in dict(enumerate(df['BsmtFinType2'].unique())).items()})\n",
    "df['Heating']=df['Heating'].map({v: k for k, v in dict(enumerate(df['Heating'].unique())).items()})\n",
    "df['HeatingQC']=df['HeatingQC'].map({v: k for k, v in dict(enumerate(df['HeatingQC'].unique())).items()})\n",
    "df['CentralAir']=df['CentralAir'].map({v: k for k, v in dict(enumerate(df['CentralAir'].unique())).items()})\n",
    "df['Electrical']=df['Electrical'].map({v: k for k, v in dict(enumerate(df['Electrical'].unique())).items()})\n",
    "df['KitchenQual']=df['KitchenQual'].map({v: k for k, v in dict(enumerate(df['KitchenQual'].unique())).items()})\n",
    "df['Functional']=df['Functional'].map({v: k for k, v in dict(enumerate(df['Functional'].unique())).items()})\n",
    "df['FireplaceQu']=df['FireplaceQu'].map({v: k for k, v in dict(enumerate(df['FireplaceQu'].unique())).items()})\n",
    "df['GarageType']=df['GarageType'].map({v: k for k, v in dict(enumerate(df['GarageType'].unique())).items()})\n",
    "df['GarageFinish']=df['GarageFinish'].map({v: k for k, v in dict(enumerate(df['GarageFinish'].unique())).items()})\n",
    "df['GarageQual']=df['GarageQual'].map({v: k for k, v in dict(enumerate(df['GarageQual'].unique())).items()})\n",
    "df['GarageCond']=df['GarageCond'].map({v: k for k, v in dict(enumerate(df['GarageCond'].unique())).items()})\n",
    "df['PavedDrive']=df['PavedDrive'].map({v: k for k, v in dict(enumerate(df['PavedDrive'].unique())).items()})\n",
    "df['SaleType']=df['SaleType'].map({v: k for k, v in dict(enumerate(df['SaleType'].unique())).items()})\n",
    "df['SaleCondition']=df['SaleCondition'].map({v: k for k, v in dict(enumerate(df['SaleCondition'].unique())).items()})\n"
   ]
  },
  {
   "cell_type": "code",
   "execution_count": 1553,
   "metadata": {},
   "outputs": [],
   "source": [
    "scaler=StandardScaler()\n",
    "columns=list(df.columns)\n",
    "columns.pop()\n",
    "df_scaler=scaler.fit_transform(df.drop(['SalePrice'],axis=1))\n",
    "df_scaler=pd.DataFrame(data=df_scaler,columns=columns)\n",
    "df_scaler['SalePrice']=df['SalePrice'].to_list()\n",
    "df_train=df_scaler[:1460]\n",
    "df_test=df_scaler[1460:]\n",
    "df_test=df_test.drop(['SalePrice'],axis=1)"
   ]
  },
  {
   "cell_type": "code",
   "execution_count": 1559,
   "metadata": {},
   "outputs": [
    {
     "name": "stdout",
     "output_type": "stream",
     "text": [
      "88.45297989313637\n"
     ]
    }
   ],
   "source": [
    "\n",
    "x=df_train.drop(['SalePrice'],axis=1)\n",
    "y=df_train['SalePrice']\n",
    "model=GradientBoostingRegressor()\n",
    "x_train,x_test,y_train,y_test=train_test_split(x,y,test_size=0.30,random_state=42)\n",
    "cvs=cross_val_score(model,x,y,cv=5)\n",
    "print(np.mean(cvs)*100) "
   ]
  },
  {
   "cell_type": "code",
   "execution_count": 1560,
   "metadata": {},
   "outputs": [
    {
     "name": "stdout",
     "output_type": "stream",
     "text": [
      "88.77697696530397\n"
     ]
    }
   ],
   "source": [
    "params={'n_estimators':list(range(10,200,10))}\n",
    "model=GradientBoostingRegressor()\n",
    "modelG=GridSearchCV(model,params,scoring='explained_variance').fit(x_train,y_train)\n",
    "cvs=cross_val_score(modelG.best_estimator_,x,y,cv=5)\n",
    "print(np.mean(cvs)*100) "
   ]
  },
  {
   "cell_type": "code",
   "execution_count": 1561,
   "metadata": {},
   "outputs": [
    {
     "name": "stdout",
     "output_type": "stream",
     "text": [
      "0.9818634700103845 0.9100381324255266\n"
     ]
    }
   ],
   "source": [
    "print(modelG.score(x_train,y_train),modelG.score(x_test,y_test))"
   ]
  },
  {
   "cell_type": "code",
   "execution_count": 1562,
   "metadata": {},
   "outputs": [],
   "source": [
    "predictions=modelG.predict(df_test)\n",
    "sample_submission=pd.read_csv('sample_submission.csv')\n",
    "sample_submission['SalePrice']=predictions\n",
    "sample_submission.to_csv('sample_submission.csv',index=False)"
   ]
  },
  {
   "cell_type": "code",
   "execution_count": 1563,
   "metadata": {},
   "outputs": [
    {
     "data": {
      "text/html": [
       "<div>\n",
       "<style scoped>\n",
       "    .dataframe tbody tr th:only-of-type {\n",
       "        vertical-align: middle;\n",
       "    }\n",
       "\n",
       "    .dataframe tbody tr th {\n",
       "        vertical-align: top;\n",
       "    }\n",
       "\n",
       "    .dataframe thead th {\n",
       "        text-align: right;\n",
       "    }\n",
       "</style>\n",
       "<table border=\"1\" class=\"dataframe\">\n",
       "  <thead>\n",
       "    <tr style=\"text-align: right;\">\n",
       "      <th></th>\n",
       "      <th>Id</th>\n",
       "      <th>SalePrice</th>\n",
       "    </tr>\n",
       "  </thead>\n",
       "  <tbody>\n",
       "    <tr>\n",
       "      <th>0</th>\n",
       "      <td>1461</td>\n",
       "      <td>122621.601264</td>\n",
       "    </tr>\n",
       "    <tr>\n",
       "      <th>1</th>\n",
       "      <td>1462</td>\n",
       "      <td>156363.544705</td>\n",
       "    </tr>\n",
       "    <tr>\n",
       "      <th>2</th>\n",
       "      <td>1463</td>\n",
       "      <td>178405.041829</td>\n",
       "    </tr>\n",
       "    <tr>\n",
       "      <th>3</th>\n",
       "      <td>1464</td>\n",
       "      <td>179294.546846</td>\n",
       "    </tr>\n",
       "    <tr>\n",
       "      <th>4</th>\n",
       "      <td>1465</td>\n",
       "      <td>207497.442887</td>\n",
       "    </tr>\n",
       "    <tr>\n",
       "      <th>...</th>\n",
       "      <td>...</td>\n",
       "      <td>...</td>\n",
       "    </tr>\n",
       "    <tr>\n",
       "      <th>1454</th>\n",
       "      <td>2915</td>\n",
       "      <td>74304.113146</td>\n",
       "    </tr>\n",
       "    <tr>\n",
       "      <th>1455</th>\n",
       "      <td>2916</td>\n",
       "      <td>80287.033562</td>\n",
       "    </tr>\n",
       "    <tr>\n",
       "      <th>1456</th>\n",
       "      <td>2917</td>\n",
       "      <td>183888.351988</td>\n",
       "    </tr>\n",
       "    <tr>\n",
       "      <th>1457</th>\n",
       "      <td>2918</td>\n",
       "      <td>116611.674418</td>\n",
       "    </tr>\n",
       "    <tr>\n",
       "      <th>1458</th>\n",
       "      <td>2919</td>\n",
       "      <td>233906.863415</td>\n",
       "    </tr>\n",
       "  </tbody>\n",
       "</table>\n",
       "<p>1459 rows × 2 columns</p>\n",
       "</div>"
      ],
      "text/plain": [
       "        Id      SalePrice\n",
       "0     1461  122621.601264\n",
       "1     1462  156363.544705\n",
       "2     1463  178405.041829\n",
       "3     1464  179294.546846\n",
       "4     1465  207497.442887\n",
       "...    ...            ...\n",
       "1454  2915   74304.113146\n",
       "1455  2916   80287.033562\n",
       "1456  2917  183888.351988\n",
       "1457  2918  116611.674418\n",
       "1458  2919  233906.863415\n",
       "\n",
       "[1459 rows x 2 columns]"
      ]
     },
     "execution_count": 1563,
     "metadata": {},
     "output_type": "execute_result"
    }
   ],
   "source": [
    "sample_submission=pd.read_csv('sample_submission.csv')\n",
    "sample_submission"
   ]
  },
  {
   "cell_type": "code",
   "execution_count": null,
   "metadata": {},
   "outputs": [],
   "source": []
  }
 ],
 "metadata": {
  "interpreter": {
   "hash": "b1a1e4ec7899f1116c63882a4c2e8b62da21f4b9165a96df069a0c311f819659"
  },
  "kernelspec": {
   "display_name": "Python 3.10.4 ('PP_python')",
   "language": "python",
   "name": "python3"
  },
  "language_info": {
   "codemirror_mode": {
    "name": "ipython",
    "version": 3
   },
   "file_extension": ".py",
   "mimetype": "text/x-python",
   "name": "python",
   "nbconvert_exporter": "python",
   "pygments_lexer": "ipython3",
   "version": "3.10.4"
  },
  "orig_nbformat": 4
 },
 "nbformat": 4,
 "nbformat_minor": 2
}
